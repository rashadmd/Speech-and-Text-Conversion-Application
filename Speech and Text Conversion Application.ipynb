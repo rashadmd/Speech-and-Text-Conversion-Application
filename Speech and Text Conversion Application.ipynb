{
 "cells": [
  {
   "cell_type": "code",
   "execution_count": 2,
   "id": "95c7957e",
   "metadata": {},
   "outputs": [
    {
     "name": "stdout",
     "output_type": "stream",
     "text": [
      "Requirement already satisfied: SpeechRecognition in c:\\users\\rosin\\anaconda3\\lib\\site-packages (3.10.3)\n",
      "Requirement already satisfied: requests>=2.26.0 in c:\\users\\rosin\\anaconda3\\lib\\site-packages (from SpeechRecognition) (2.31.0)\n",
      "Requirement already satisfied: typing-extensions in c:\\users\\rosin\\anaconda3\\lib\\site-packages (from SpeechRecognition) (4.7.1)\n",
      "Requirement already satisfied: charset-normalizer<4,>=2 in c:\\users\\rosin\\anaconda3\\lib\\site-packages (from requests>=2.26.0->SpeechRecognition) (2.0.4)\n",
      "Requirement already satisfied: idna<4,>=2.5 in c:\\users\\rosin\\anaconda3\\lib\\site-packages (from requests>=2.26.0->SpeechRecognition) (3.4)\n",
      "Requirement already satisfied: urllib3<3,>=1.21.1 in c:\\users\\rosin\\anaconda3\\lib\\site-packages (from requests>=2.26.0->SpeechRecognition) (1.26.16)\n",
      "Requirement already satisfied: certifi>=2017.4.17 in c:\\users\\rosin\\anaconda3\\lib\\site-packages (from requests>=2.26.0->SpeechRecognition) (2023.7.22)\n",
      "Requirement already satisfied: pyaudio in c:\\users\\rosin\\anaconda3\\lib\\site-packages (0.2.14)\n",
      "Requirement already satisfied: pyttsx3 in c:\\users\\rosin\\anaconda3\\lib\\site-packages (2.90)\n",
      "Requirement already satisfied: comtypes in c:\\users\\rosin\\anaconda3\\lib\\site-packages (from pyttsx3) (1.4.1)\n",
      "Requirement already satisfied: pypiwin32 in c:\\users\\rosin\\anaconda3\\lib\\site-packages (from pyttsx3) (223)\n",
      "Requirement already satisfied: pywin32 in c:\\users\\rosin\\anaconda3\\lib\\site-packages (from pyttsx3) (305.1)\n"
     ]
    }
   ],
   "source": [
    "!pip install SpeechRecognition\n",
    "!pip install pyaudio\n",
    "!pip install pyttsx3"
   ]
  },
  {
   "cell_type": "code",
   "execution_count": 4,
   "id": "4c553c68",
   "metadata": {},
   "outputs": [
    {
     "name": "stdout",
     "output_type": "stream",
     "text": [
      "Available Voices:\n",
      "1. Microsoft David Desktop - English (United States)\n",
      "2. Microsoft Zira Desktop - English (United States)\n"
     ]
    }
   ],
   "source": [
    "import tkinter as tk\n",
    "import speech_recognition as sr\n",
    "import pyttsx3\n",
    "\n",
    "# Initialize the text-to-speech engine\n",
    "engine = pyttsx3.init()\n",
    "\n",
    "def initialize_voice_engine():\n",
    "    voices = engine.getProperty('voices')\n",
    "    print(\"Available Voices:\")\n",
    "    for i, voice in enumerate(voices):\n",
    "        print(f\"{i + 1}. {voice.name}\")\n",
    "    return voices\n",
    "\n",
    "voices = initialize_voice_engine()\n",
    "\n",
    "def speech_to_text():\n",
    "    recognizer = sr.Recognizer()\n",
    "    with sr.Microphone() as source:\n",
    "        print(\"Listening...\")\n",
    "        recognizer.adjust_for_ambient_noise(source)\n",
    "        audio_data = recognizer.listen(source)\n",
    "        try:\n",
    "            recognized_text = recognizer.recognize_google(audio_data)\n",
    "            text_output.config(text=f\"Recognized Text: {recognized_text}\")\n",
    "        except sr.UnknownValueError:\n",
    "            text_output.config(text=\"Sorry, unable to understand the audio.\")\n",
    "        except sr.RequestError as e:\n",
    "            text_output.config(text=f\"Error: {e}\")\n",
    "\n",
    "def speak_text():\n",
    "    text = text_entry.get(\"1.0\", tk.END)\n",
    "    if text.strip():\n",
    "        engine.say(text)\n",
    "        engine.runAndWait()\n",
    "    else:\n",
    "        messagebox.showwarning(\"Warning\", \"Please enter some text to convert to speech.\")\n",
    "\n",
    "# Create the main window\n",
    "root = tk.Tk()\n",
    "root.title(\"Speech to Text and Text to Speech Converter\")\n",
    "\n",
    "# Frame for Speech to Text\n",
    "stt_frame = tk.Frame(root)\n",
    "stt_frame.pack(pady=10)\n",
    "\n",
    "stt_label = tk.Label(stt_frame, text=\"Speech to Text\", font=(\"Arial\", 14))\n",
    "stt_label.pack(pady=5)\n",
    "\n",
    "text_output = tk.Label(stt_frame, text=\"\", font=(\"Arial\", 14))\n",
    "text_output.pack(pady=5)\n",
    "\n",
    "convert_button = tk.Button(stt_frame, text=\"Start Speech to Text Conversion\", font=(\"Arial\", 10), command=speech_to_text)\n",
    "convert_button.pack(pady=5)\n",
    "\n",
    "# Frame for Text to Speech\n",
    "tts_frame = tk.Frame(root)\n",
    "tts_frame.pack(pady=10)\n",
    "\n",
    "tts_label = tk.Label(tts_frame, text=\"Text to Speech\", font=(\"Arial\", 14))\n",
    "tts_label.pack(pady=5)\n",
    "\n",
    "text_entry = tk.Text(tts_frame, height=5, width=50)\n",
    "text_entry.pack(pady=5)\n",
    "\n",
    "speak_button = tk.Button(tts_frame, text=\"Convert Text to Speech\", font=(\"Arial\", 10), command=speak_text)\n",
    "speak_button.pack(pady=5)\n",
    "\n",
    "# Dropdown for voice selection\n",
    "voice_label = tk.Label(tts_frame, text=\"Select Voice:\", font=(\"Arial\", 12))\n",
    "voice_label.pack(pady=5)\n",
    "\n",
    "voice_var = tk.StringVar(root)\n",
    "voice_var.set(voices[0].name)\n",
    "\n",
    "voice_menu = tk.OptionMenu(tts_frame, voice_var, *[voice.name for voice in voices])\n",
    "voice_menu.pack(pady=5)\n",
    "\n",
    "def update_voice(*args):\n",
    "    selected_voice = voice_var.get()\n",
    "    for voice in voices:\n",
    "        if voice.name == selected_voice:\n",
    "            engine.setProperty('voice', voice.id)\n",
    "            break\n",
    "\n",
    "voice_var.trace(\"w\", update_voice)\n",
    "\n",
    "root.mainloop()\n"
   ]
  },
  {
   "cell_type": "code",
   "execution_count": null,
   "id": "ddb103d7",
   "metadata": {},
   "outputs": [],
   "source": []
  }
 ],
 "metadata": {
  "kernelspec": {
   "display_name": "Python 3 (ipykernel)",
   "language": "python",
   "name": "python3"
  },
  "language_info": {
   "codemirror_mode": {
    "name": "ipython",
    "version": 3
   },
   "file_extension": ".py",
   "mimetype": "text/x-python",
   "name": "python",
   "nbconvert_exporter": "python",
   "pygments_lexer": "ipython3",
   "version": "3.11.4"
  }
 },
 "nbformat": 4,
 "nbformat_minor": 5
}
